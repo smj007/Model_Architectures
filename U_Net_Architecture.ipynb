{
  "nbformat": 4,
  "nbformat_minor": 0,
  "metadata": {
    "colab": {
      "name": "U-Net Architecture",
      "provenance": [],
      "collapsed_sections": []
    },
    "kernelspec": {
      "name": "python3",
      "display_name": "Python 3"
    },
    "accelerator": "GPU"
  },
  "cells": [
    {
      "cell_type": "code",
      "metadata": {
        "id": "ltlittPML14U",
        "colab_type": "code",
        "colab": {}
      },
      "source": [
        "#Used in  biomedical applications where apart from image classification we also need to know the region of abnormality\n",
        "# a U net is capable for classifying every single pixel and the input and output here have the same dims\n"
      ],
      "execution_count": 1,
      "outputs": []
    },
    {
      "cell_type": "code",
      "metadata": {
        "id": "KSRT44qCOzMo",
        "colab_type": "code",
        "colab": {}
      },
      "source": [
        "import tensorflow as tf \n",
        "import keras\n",
        "from keras.layers import Conv2D, MaxPooling2D, Dropout, Conv2DTranspose, concatenate, Input\n",
        "from keras.models import Model, Sequential"
      ],
      "execution_count": 4,
      "outputs": []
    },
    {
      "cell_type": "code",
      "metadata": {
        "id": "JP_AJDLOPxXF",
        "colab_type": "code",
        "colab": {}
      },
      "source": [
        "def build_model(start_neurons, input_layer):\n",
        "\n",
        "  #conv_layer1 -> conv_layer2 -> max_pooling -> dropout(optional) Contracting path architecture\n",
        "\n",
        "  conv1 = Conv2D(start_neurons * 1, (3, 3), activation = 'relu', padding = 'same')(input_layer)\n",
        "  conv1 = Conv2D(start_neurons * 1, (3, 3), activation = 'relu', padding = 'same')(conv1)\n",
        "  pool1 = MaxPooling2D((2, 2))(conv1)\n",
        "  drop1 = Dropout(0.25)(pool1)\n",
        "\n",
        "  conv2 = Conv2D(start_neurons * 2, (3, 3), activation = 'relu', padding = 'same')(drop1)\n",
        "  conv2 = Conv2D(start_neurons * 2, (3, 3), activation = 'relu', padding = 'same')(conv2)\n",
        "  pool2 = MaxPooling2D((2, 2))(conv2)\n",
        "  drop2 = Dropout(0.5)(pool2)\n",
        "\n",
        "  conv3 = Conv2D(start_neurons * 4, (3, 3), activation = 'relu', padding = 'same')(drop2)\n",
        "  conv3 = Conv2D(start_neurons * 4, (3, 3), activation = 'relu', padding = 'same')(conv3)\n",
        "  pool3 = MaxPooling2D((2, 2))(conv3)\n",
        "  drop3 = Dropout(0.5)(pool3)\n",
        "\n",
        "  conv4 = Conv2D(start_neurons * 8, (3, 3), activation = 'relu', padding = 'same')(drop3)\n",
        "  conv4 = Conv2D(start_neurons * 8, (3, 3), activation = 'relu', padding = 'same')(conv4)\n",
        "  pool4 = MaxPooling2D((2, 2))(conv4)\n",
        "  drop4 = Dropout(0.5)(pool4)\n",
        "\n",
        "\n",
        "  #Middle layer of the UNet, no MP and Dropout\n",
        "  conv5_m = Conv2D(start_neurons * 16, (3, 3), activation = 'relu', padding = 'same')(drop4)\n",
        "  conv5_m = Conv2D(start_neurons * 16, (3, 3), activation = 'relu', padding = 'same')(conv5_m)\n",
        "\n",
        "  #Expansive path of the network - conv_2d_transpose -> concatenate -> conv_layer1 -> conv_layer2\n",
        "  tconv_4 = Conv2DTranspose(start_neurons * 8, (3, 3), strides = (2, 2), padding = 'same')(conv5_m)\n",
        "  concat1 = concatenate([tconv_4, conv4]) #the channels dims are restored after concat (halved by transposed conv)\n",
        "  uconv4 = Dropout(0.5)(concat1)\n",
        "  uconv4 = Conv2D(start_neurons * 8, (3, 3), activation='relu', padding = 'same')(uconv4)\n",
        "  uconv4 = Conv2D(start_neurons * 8, (3, 3), activation='relu', padding = 'same')(uconv4)\n",
        "\n",
        "  tconv_3 = Conv2DTranspose(start_neurons * 4, (3, 3), strides = (2, 2), padding = 'same')(uconv4)\n",
        "  concat2 = concatenate([tconv_3, conv3]) #the channels dims are restored after concat (halved by transposed conv)\n",
        "  uconv3 = Dropout(0.5)(concat2)\n",
        "  uconv3 = Conv2D(start_neurons * 4, (3, 3), activation='relu', padding = 'same')(uconv3)\n",
        "  uconv3 = Conv2D(start_neurons * 4, (3, 3), activation='relu', padding = 'same')(uconv3)\n",
        "\n",
        "  tconv_2 = Conv2DTranspose(start_neurons * 2, (3, 3), strides = (2, 2), padding = 'same')(uconv3)\n",
        "  concat3 = concatenate([tconv_2, conv2]) #the channels dims are restored after concat (halved by transposed conv)\n",
        "  uconv2 = Dropout(0.5)(concat3)\n",
        "  uconv2 = Conv2D(start_neurons * 2, (3, 3), activation='relu', padding = 'same')(uconv2)\n",
        "  uconv2 = Conv2D(start_neurons * 2, (3, 3), activation='relu', padding = 'same')(uconv2)  \n",
        "\n",
        "  tconv_1 = Conv2DTranspose(start_neurons * 1, (3, 3), strides = (2, 2), padding = 'same')(uconv2)\n",
        "  concat4 = concatenate([tconv_1, conv1]) #the channels dims are restored after concat (halved by transposed conv)\n",
        "  uconv1 = Dropout(0.5)(concat4)\n",
        "  uconv1 = Conv2D(start_neurons * 1, (3, 3), activation='relu', padding = 'same')(uconv1)\n",
        "  uconv1 = Conv2D(start_neurons * 1, (3, 3), activation='relu', padding = 'same')(uconv1)\n",
        "\n",
        "  #output layer\n",
        "  out_layer = Conv2D(1, (1, 1), padding = 'same', activation = 'sigmoid')(uconv1)"
      ],
      "execution_count": 11,
      "outputs": []
    },
    {
      "cell_type": "code",
      "metadata": {
        "id": "8EZqFzpqWNqw",
        "colab_type": "code",
        "colab": {}
      },
      "source": [
        "from keras.optimizers import Adam"
      ],
      "execution_count": 12,
      "outputs": []
    },
    {
      "cell_type": "code",
      "metadata": {
        "id": "5yC0ILEQVprc",
        "colab_type": "code",
        "colab": {}
      },
      "source": [
        "\n",
        "input_image = Input((img_h, img_w, 1), name = 'image')\n",
        "model = build_model(start_neurons=16, input_layer = input_image)\n",
        "model.compile(optimizer = Adam(), loss = 'categorical_crossentropy', metrics = ['accuracy'])"
      ],
      "execution_count": null,
      "outputs": []
    },
    {
      "cell_type": "code",
      "metadata": {
        "id": "anxnLvBmWR_t",
        "colab_type": "code",
        "colab": {}
      },
      "source": [
        ""
      ],
      "execution_count": null,
      "outputs": []
    }
  ]
}