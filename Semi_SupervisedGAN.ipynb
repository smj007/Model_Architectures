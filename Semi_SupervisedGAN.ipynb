{
  "nbformat": 4,
  "nbformat_minor": 0,
  "metadata": {
    "colab": {
      "name": "Semi-SupervisedGAN.ipynb",
      "provenance": []
    },
    "kernelspec": {
      "name": "python3",
      "display_name": "Python 3"
    },
    "accelerator": "GPU"
  },
  "cells": [
    {
      "cell_type": "markdown",
      "metadata": {
        "id": "So2jV4tTLazv"
      },
      "source": [
        "Easy way to train a classifier when you have less labelled data, here we will use 100 images of MNIST only"
      ]
    },
    {
      "cell_type": "markdown",
      "metadata": {
        "id": "pUhEqhSGO25v"
      },
      "source": [
        "## Semi-Supervised Classifier"
      ]
    },
    {
      "cell_type": "code",
      "metadata": {
        "colab": {
          "base_uri": "https://localhost:8080/"
        },
        "id": "j4wVwUZwLSGC",
        "outputId": "a4225411-a2fa-493f-a66c-00beb8aadccf"
      },
      "source": [
        "!pip install tensorflow==1.14.0"
      ],
      "execution_count": 1,
      "outputs": [
        {
          "output_type": "stream",
          "text": [
            "Collecting tensorflow==1.14.0\n",
            "\u001b[?25l  Downloading https://files.pythonhosted.org/packages/f4/28/96efba1a516cdacc2e2d6d081f699c001d414cc8ca3250e6d59ae657eb2b/tensorflow-1.14.0-cp37-cp37m-manylinux1_x86_64.whl (109.3MB)\n",
            "\u001b[K     |████████████████████████████████| 109.3MB 63kB/s \n",
            "\u001b[?25hRequirement already satisfied: absl-py>=0.7.0 in /usr/local/lib/python3.7/dist-packages (from tensorflow==1.14.0) (0.10.0)\n",
            "Requirement already satisfied: protobuf>=3.6.1 in /usr/local/lib/python3.7/dist-packages (from tensorflow==1.14.0) (3.12.4)\n",
            "Requirement already satisfied: gast>=0.2.0 in /usr/local/lib/python3.7/dist-packages (from tensorflow==1.14.0) (0.3.3)\n",
            "Requirement already satisfied: astor>=0.6.0 in /usr/local/lib/python3.7/dist-packages (from tensorflow==1.14.0) (0.8.1)\n",
            "Collecting tensorflow-estimator<1.15.0rc0,>=1.14.0rc0\n",
            "\u001b[?25l  Downloading https://files.pythonhosted.org/packages/3c/d5/21860a5b11caf0678fbc8319341b0ae21a07156911132e0e71bffed0510d/tensorflow_estimator-1.14.0-py2.py3-none-any.whl (488kB)\n",
            "\u001b[K     |████████████████████████████████| 491kB 47.6MB/s \n",
            "\u001b[?25hRequirement already satisfied: wheel>=0.26 in /usr/local/lib/python3.7/dist-packages (from tensorflow==1.14.0) (0.36.2)\n",
            "Collecting keras-applications>=1.0.6\n",
            "\u001b[?25l  Downloading https://files.pythonhosted.org/packages/71/e3/19762fdfc62877ae9102edf6342d71b28fbfd9dea3d2f96a882ce099b03f/Keras_Applications-1.0.8-py3-none-any.whl (50kB)\n",
            "\u001b[K     |████████████████████████████████| 51kB 8.7MB/s \n",
            "\u001b[?25hCollecting tensorboard<1.15.0,>=1.14.0\n",
            "\u001b[?25l  Downloading https://files.pythonhosted.org/packages/91/2d/2ed263449a078cd9c8a9ba50ebd50123adf1f8cfbea1492f9084169b89d9/tensorboard-1.14.0-py3-none-any.whl (3.1MB)\n",
            "\u001b[K     |████████████████████████████████| 3.2MB 41.8MB/s \n",
            "\u001b[?25hRequirement already satisfied: keras-preprocessing>=1.0.5 in /usr/local/lib/python3.7/dist-packages (from tensorflow==1.14.0) (1.1.2)\n",
            "Requirement already satisfied: numpy<2.0,>=1.14.5 in /usr/local/lib/python3.7/dist-packages (from tensorflow==1.14.0) (1.19.5)\n",
            "Requirement already satisfied: wrapt>=1.11.1 in /usr/local/lib/python3.7/dist-packages (from tensorflow==1.14.0) (1.12.1)\n",
            "Requirement already satisfied: grpcio>=1.8.6 in /usr/local/lib/python3.7/dist-packages (from tensorflow==1.14.0) (1.32.0)\n",
            "Requirement already satisfied: termcolor>=1.1.0 in /usr/local/lib/python3.7/dist-packages (from tensorflow==1.14.0) (1.1.0)\n",
            "Requirement already satisfied: google-pasta>=0.1.6 in /usr/local/lib/python3.7/dist-packages (from tensorflow==1.14.0) (0.2.0)\n",
            "Requirement already satisfied: six>=1.10.0 in /usr/local/lib/python3.7/dist-packages (from tensorflow==1.14.0) (1.15.0)\n",
            "Requirement already satisfied: setuptools in /usr/local/lib/python3.7/dist-packages (from protobuf>=3.6.1->tensorflow==1.14.0) (54.0.0)\n",
            "Requirement already satisfied: h5py in /usr/local/lib/python3.7/dist-packages (from keras-applications>=1.0.6->tensorflow==1.14.0) (2.10.0)\n",
            "Requirement already satisfied: werkzeug>=0.11.15 in /usr/local/lib/python3.7/dist-packages (from tensorboard<1.15.0,>=1.14.0->tensorflow==1.14.0) (1.0.1)\n",
            "Requirement already satisfied: markdown>=2.6.8 in /usr/local/lib/python3.7/dist-packages (from tensorboard<1.15.0,>=1.14.0->tensorflow==1.14.0) (3.3.4)\n",
            "Requirement already satisfied: importlib-metadata; python_version < \"3.8\" in /usr/local/lib/python3.7/dist-packages (from markdown>=2.6.8->tensorboard<1.15.0,>=1.14.0->tensorflow==1.14.0) (3.7.2)\n",
            "Requirement already satisfied: typing-extensions>=3.6.4; python_version < \"3.8\" in /usr/local/lib/python3.7/dist-packages (from importlib-metadata; python_version < \"3.8\"->markdown>=2.6.8->tensorboard<1.15.0,>=1.14.0->tensorflow==1.14.0) (3.7.4.3)\n",
            "Requirement already satisfied: zipp>=0.5 in /usr/local/lib/python3.7/dist-packages (from importlib-metadata; python_version < \"3.8\"->markdown>=2.6.8->tensorboard<1.15.0,>=1.14.0->tensorflow==1.14.0) (3.4.1)\n",
            "Installing collected packages: tensorflow-estimator, keras-applications, tensorboard, tensorflow\n",
            "  Found existing installation: tensorflow-estimator 2.4.0\n",
            "    Uninstalling tensorflow-estimator-2.4.0:\n",
            "      Successfully uninstalled tensorflow-estimator-2.4.0\n",
            "  Found existing installation: tensorboard 2.4.1\n",
            "    Uninstalling tensorboard-2.4.1:\n",
            "      Successfully uninstalled tensorboard-2.4.1\n",
            "  Found existing installation: tensorflow 2.4.1\n",
            "    Uninstalling tensorflow-2.4.1:\n",
            "      Successfully uninstalled tensorflow-2.4.1\n",
            "Successfully installed keras-applications-1.0.8 tensorboard-1.14.0 tensorflow-1.14.0 tensorflow-estimator-1.14.0\n"
          ],
          "name": "stdout"
        }
      ]
    },
    {
      "cell_type": "code",
      "metadata": {
        "colab": {
          "base_uri": "https://localhost:8080/"
        },
        "id": "blhe8mPBLqDF",
        "outputId": "c44064a9-a3a6-4e66-8bd6-c962058edc84"
      },
      "source": [
        "%tensorflow_version 1.x\n",
        "import numpy as np\n",
        "import tensorflow as tf\n",
        "import keras\n",
        "from keras.layers import Dense,Conv2D,Conv2DTranspose,Input,Reshape,Activation,Lambda\n",
        "from keras.layers.advanced_activations import LeakyReLU\n",
        "from keras.optimizers import Adam\n",
        "from keras.layers import BatchNormalization,Dropout,Flatten\n",
        "from keras.datasets import mnist\n",
        "from keras.models import Sequential,Model\n",
        "import keras.backend as K\n",
        "import matplotlib.pyplot as plt"
      ],
      "execution_count": 2,
      "outputs": [
        {
          "output_type": "stream",
          "text": [
            "TensorFlow 1.x selected.\n"
          ],
          "name": "stdout"
        },
        {
          "output_type": "stream",
          "text": [
            "Using TensorFlow backend.\n"
          ],
          "name": "stderr"
        }
      ]
    },
    {
      "cell_type": "code",
      "metadata": {
        "id": "_BbcfjcJMLJU"
      },
      "source": [
        "img_rows = 28\n",
        "img_cols = 28\n",
        "channels = 1\n",
        " \n",
        "img_shape = (img_rows,img_cols,channels)\n",
        " \n",
        "z_dim = 100\n",
        "num_classes = 10"
      ],
      "execution_count": 3,
      "outputs": []
    },
    {
      "cell_type": "code",
      "metadata": {
        "colab": {
          "base_uri": "https://localhost:8080/",
          "height": 332
        },
        "id": "pnvIl3wlMNPs",
        "outputId": "606d567d-001a-42db-927a-7aadf928c630"
      },
      "source": [
        "class Dataset:\n",
        "  def __init__(self,num_labeled,num_classes):\n",
        "    self.num_labeled = num_labeled\n",
        "    self.num_classes = num_classes\n",
        "    (self.x_train,self.y_train),(self.x_test,self.y_test) = mnist.load_data()\n",
        "  \n",
        "    def preprocess_image(x):\n",
        "      x = (x.astype(np.float32)-127.5)/127.5\n",
        "      x = np.expand_dims(x,axis=-1)\n",
        "      return x\n",
        "  \n",
        "    def preprocess_labels(y):\n",
        "      return y.reshape((-1,1))\n",
        "    self.x_train = preprocess_image(self.x_train)\n",
        "    print(np.min(self.x_train))\n",
        "    self.y_train = preprocess_labels(self.y_train)\n",
        "    self.x_test = preprocess_image(self.x_test)\n",
        "    self.y_test = preprocess_labels(self.y_test)\n",
        " \n",
        "  def batch_labeled(self,batch_size):\n",
        " \n",
        "    sample_per_class = int(self.num_labeled/self.num_classes)\n",
        "    imgs = list()\n",
        "    labels = list()\n",
        "    for i in range(sample_per_class):\n",
        "      idx = self.y_train==i\n",
        "      idx = [i for i, x in enumerate(idx) if x]\n",
        "      x_classes= self.x_train[idx]\n",
        "      y_classes = self.y_train[idx]\n",
        "      #index = np.random.randint(0,x_classes.shape[0],sample_per_class)\n",
        "      index = np.arange(sample_per_class)\n",
        "      x_imgs = x_classes[index]\n",
        "      y_imgs = y_classes[index]\n",
        "      \n",
        "      #print(x_imgs.shape)\n",
        "      [imgs.append(x_imgs[j]) for j in index ]\n",
        "      [labels.append(y_imgs[j]) for j in range(num_classes)]\n",
        " \n",
        "    imgs = np.asarray(imgs)\n",
        "    \n",
        "    labels = np.asarray(labels)\n",
        "    #print(labels)\n",
        " \n",
        "    ix  = np.random.randint(0,self.num_labeled,batch_size)\n",
        "    imgs = imgs[ix]\n",
        "    labels = labels[ix]\n",
        "    #print(labels.shape)\n",
        "    return imgs,labels\n",
        " \n",
        "  def batch_unlabeled(self,batch_size):\n",
        "    idx = np.random.randint(self.num_labeled,self.x_train.shape[0],batch_size)\n",
        "    imgs = self.x_train[idx]\n",
        "    return imgs\n",
        " \n",
        "  def training_set(self):\n",
        "     x_train = self.x_train[range(self.num_labeled)]  \n",
        "     y_train = self.y_train[range(self.num_labeled)]\n",
        "     return x_train ,y_train\n",
        "  def testing_set(self):\n",
        "    return self.x_test,self.y_test\n",
        " \n",
        "num_labeled = 100\n",
        "num_classes = 10\n",
        "dataset = Dataset(num_labeled,num_classes)\n",
        "i= dataset.batch_unlabeled(32)\n",
        "plt.imshow(i[0,:,:,0],cmap='gray')"
      ],
      "execution_count": 4,
      "outputs": [
        {
          "output_type": "stream",
          "text": [
            "Downloading data from https://s3.amazonaws.com/img-datasets/mnist.npz\n",
            "11493376/11490434 [==============================] - 0s 0us/step\n",
            "-1.0\n"
          ],
          "name": "stdout"
        },
        {
          "output_type": "execute_result",
          "data": {
            "text/plain": [
              "<matplotlib.image.AxesImage at 0x7fdbf9ac4410>"
            ]
          },
          "metadata": {
            "tags": []
          },
          "execution_count": 4
        },
        {
          "output_type": "display_data",
          "data": {
            "image/png": "[encoded data removed]",
            "text/plain": [
              "<Figure size 432x288 with 1 Axes>"
            ]
          },
          "metadata": {
            "tags": [],
            "needs_background": "light"
          }
        }
      ]
    },
    {
      "cell_type": "code",
      "metadata": {
        "id": "0YMH4xW4MPs7"
      },
      "source": [
        "def build_generator(z_dim):\n",
        "  model = Sequential()\n",
        "  model.add(Dense(256*7*7,input_dim=z_dim))\n",
        "  model.add(Reshape((7,7,256)))\n",
        "  model.add(Conv2DTranspose(128,kernel_size=3,strides=2,padding='same'))\n",
        "  model.add(BatchNormalization())\n",
        "  model.add(LeakyReLU(alpha=0.01))\n",
        "  model.add(Conv2DTranspose(64,kernel_size=3,strides=1,padding='same'))\n",
        "  model.add(BatchNormalization())\n",
        "  model.add(LeakyReLU(alpha=0.01))\n",
        "  model.add(Conv2DTranspose(1,kernel_size=(3,3),strides=2,padding='same',activation='tanh'))\n",
        "\n",
        "  return model"
      ],
      "execution_count": 5,
      "outputs": []
    },
    {
      "cell_type": "code",
      "metadata": {
        "id": "8s-hyt2iMS-0"
      },
      "source": [
        "def build_discriminator(img_shape):\n",
        "  inp = Input(shape=img_shape)\n",
        "\n",
        "  X = Conv2D(32,kernel_size=(3,3),strides=2,input_shape=img_shape,padding='same')(inp)\n",
        "  X = LeakyReLU(alpha=0.01)(X)\n",
        "  X = Conv2D(64,kernel_size=(3,3),strides=2,padding='same')(X)\n",
        "  X = BatchNormalization()(X)\n",
        "  X = LeakyReLU(alpha=0.01)(X)\n",
        "  X = Conv2D(128,kernel_size=(3,3),strides=2,padding='same')(X)\n",
        "  X = BatchNormalization()(X)\n",
        "  X = LeakyReLU(alpha=0.01)(X)\n",
        "  \n",
        "  X = Flatten(name=\"flatten\")(X)\n",
        "  X = Dropout(0.5)(X)\n",
        "  X = Dense(num_classes)(X)\n",
        "  model = Model(inputs=inp,outputs=X)\n",
        "  return model"
      ],
      "execution_count": 6,
      "outputs": []
    },
    {
      "cell_type": "code",
      "metadata": {
        "id": "xOabDf0vMVs8"
      },
      "source": [
        "def build_discriminator_supervised(discriminator):\n",
        "  model = Sequential()\n",
        "  model.add(discriminator)\n",
        "  model.add(Activation('softmax'))\n",
        "  return model"
      ],
      "execution_count": 7,
      "outputs": []
    },
    {
      "cell_type": "code",
      "metadata": {
        "id": "utGFFLw1MYnU"
      },
      "source": [
        "def build_discriminator_unsupervised(discriminator):\n",
        "  model = Sequential()\n",
        "  model.add(discriminator)\n",
        "  def custom_activation(x):\n",
        "        \n",
        "    prediction = 1.0 - (1.0 /\n",
        "                (K.sum(K.exp(x), axis=-1, keepdims=True) + 1.0))\n",
        "    return prediction\n",
        "    \n",
        "  model.add(Lambda(custom_activation))\n",
        "  \n",
        "  return model"
      ],
      "execution_count": 9,
      "outputs": []
    },
    {
      "cell_type": "code",
      "metadata": {
        "id": "S8W88fuNMaSM"
      },
      "source": [
        "def build_gan(generator,discriminator):\n",
        "  model = Sequential()\n",
        "  model.add(generator)\n",
        "  model.add(discriminator)\n",
        "  return model"
      ],
      "execution_count": 10,
      "outputs": []
    },
    {
      "cell_type": "code",
      "metadata": {
        "colab": {
          "base_uri": "https://localhost:8080/"
        },
        "id": "_VwBb2vpMfQc",
        "outputId": "772ba499-e8d2-443b-d084-c7d2e8773b54"
      },
      "source": [
        "discriminator = build_discriminator(img_shape)\n",
        "discriminator_supervised = build_discriminator_supervised(discriminator)\n",
        "discriminator_supervised.compile(optimizer= Adam(learning_rate=0.001),loss=\"categorical_crossentropy\",metrics=['accuracy'])\n",
        "discriminator_unsupervised = build_discriminator_unsupervised(discriminator)\n",
        "discriminator_unsupervised.compile(optimizer = Adam(learning_rate=0.001),loss='binary_crossentropy',metrics=['accuracy'])"
      ],
      "execution_count": 12,
      "outputs": [
        {
          "output_type": "stream",
          "text": [
            "WARNING:tensorflow:From /tensorflow-1.15.2/python3.7/tensorflow_core/python/ops/resource_variable_ops.py:1630: calling BaseResourceVariable.__init__ (from tensorflow.python.ops.resource_variable_ops) with constraint is deprecated and will be removed in a future version.\n",
            "Instructions for updating:\n",
            "If using Keras pass *_constraint arguments to layers.\n"
          ],
          "name": "stdout"
        }
      ]
    },
    {
      "cell_type": "code",
      "metadata": {
        "id": "-3R2LJmxMgjc"
      },
      "source": [
        "generator = build_generator(z_dim)\n",
        "discriminator_unsupervised.trainable = False\n",
        "gan = build_gan(generator,discriminator_unsupervised)\n",
        "gan.compile(optimizer=Adam(learning_rate=0.001),loss='binary_crossentropy',metrics=['accuracy'])"
      ],
      "execution_count": 13,
      "outputs": []
    },
    {
      "cell_type": "code",
      "metadata": {
        "id": "VdwIjYuiMnc0"
      },
      "source": [
        "from keras.utils import to_categorical\n",
        "x_test,y_test = dataset.testing_set()\n",
        "y_test = to_categorical(y_test,num_classes)\n",
        "\n",
        "supervised_losses = []\n",
        "iteration_checkpoints = []\n",
        "accuracies = []\n",
        "val_losses = []\n",
        "from keras.utils import to_categorical\n",
        "def train(iterations,batch_size,sample_interval):\n",
        "\n",
        "  real = np.ones((batch_size,1))\n",
        "  fake = np.zeros((batch_size,1))\n",
        "\n",
        "  for iteration in range(iterations):\n",
        "    imgs,labels = dataset.batch_labeled(batch_size)\n",
        "    \n",
        "    #print(labels)\n",
        "    labels = to_categorical(labels,num_classes=num_classes)\n",
        "\n",
        "    unlabeled_imgs = dataset.batch_unlabeled(batch_size)\n",
        "\n",
        "    z = np.random.normal(0,1,(batch_size,z_dim))\n",
        "    \n",
        "    fake_imgs = generator.predict(z)\n",
        "    #print(fake_imgs.shape)\n",
        "\n",
        "    d_supervised_loss,accuracy = discriminator_supervised.train_on_batch(imgs,labels)\n",
        "    d_unsupervised_loss_real = discriminator_unsupervised.train_on_batch(unlabeled_imgs,real)\n",
        "    d_unsupervised_loss_fake = discriminator_unsupervised.train_on_batch(fake_imgs,fake)\n",
        "    d_unsupervised_loss = 0.5*np.add(d_unsupervised_loss_real,d_unsupervised_loss_fake)\n",
        "\n",
        "    z = np.random.normal(0,1,(batch_size,z_dim))\n",
        "    fake_imgs = generator.predict(z)\n",
        "    generator_loss = gan.train_on_batch(z,real)\n",
        "\n",
        "    \n",
        "    if(iteration+1) % sample_interval ==0:\n",
        "      supervised_losses.append(d_supervised_loss)\n",
        "      accuracies.append(100*accuracy)\n",
        "      iteration_checkpoints.append(iteration+1)\n",
        "      val_loss = discriminator_supervised.evaluate(x=x_test,y=y_test,verbose=0)\n",
        "      val_losses.append(val_loss[0])\n",
        "      print(\"Iteration No.:\",iteration+1,end=\",\")\n",
        "      print(\"Discriminator Supervised Loss:\",d_supervised_loss,end=',')\n",
        "      print('Generator Loss:',generator_loss,end=\",\")\n",
        "      print('Discriminator Unsuperived Loss:',d_unsupervised_loss,sep=',')\n",
        "      print('val_loss:',val_loss,sep=',')\n",
        "      print('Accuracy Supervised:',100*accuracy)"
      ],
      "execution_count": 14,
      "outputs": []
    },
    {
      "cell_type": "code",
      "metadata": {
        "colab": {
          "base_uri": "https://localhost:8080/"
        },
        "id": "3euQJXgfMrZU",
        "outputId": "1e59f6cf-0e5c-4803-9ba6-6ba6cec4c3ea"
      },
      "source": [
        "iterations = 6000\n",
        "batch_size = 32\n",
        "sample_interval = 500\n",
        "train(iterations,batch_size,sample_interval)"
      ],
      "execution_count": 15,
      "outputs": [
        {
          "output_type": "stream",
          "text": [
            "WARNING:tensorflow:From /tensorflow-1.15.2/python3.7/keras/backend/tensorflow_backend.py:422: The name tf.global_variables is deprecated. Please use tf.compat.v1.global_variables instead.\n",
            "\n",
            "WARNING:tensorflow:From /tensorflow-1.15.2/python3.7/tensorflow_core/python/ops/math_grad.py:1424: where (from tensorflow.python.ops.array_ops) is deprecated and will be removed in a future version.\n",
            "Instructions for updating:\n",
            "Use tf.where in 2.0, which has the same broadcast rule as np.where\n"
          ],
          "name": "stdout"
        },
        {
          "output_type": "stream",
          "text": [
            "/tensorflow-1.15.2/python3.7/keras/engine/training.py:297: UserWarning: Discrepancy between trainable weights and collected trainable weights, did you set `model.trainable` without calling `model.compile` after ?\n",
            "  'Discrepancy between trainable weights and collected trainable'\n",
            "/tensorflow-1.15.2/python3.7/keras/engine/training.py:297: UserWarning: Discrepancy between trainable weights and collected trainable weights, did you set `model.trainable` without calling `model.compile` after ?\n",
            "  'Discrepancy between trainable weights and collected trainable'\n",
            "/tensorflow-1.15.2/python3.7/keras/engine/training.py:297: UserWarning: Discrepancy between trainable weights and collected trainable weights, did you set `model.trainable` without calling `model.compile` after ?\n",
            "  'Discrepancy between trainable weights and collected trainable'\n"
          ],
          "name": "stderr"
        },
        {
          "output_type": "stream",
          "text": [
            "Iteration No.: 500,Discriminator Supervised Loss: 0.0013422498,Generator Loss: [0.030874787, 1.0],Discriminator Unsuperived Loss:,[0.00738664 1.        ]\n",
            "val_loss:,[1.2382528547525407, 0.7024000287055969]\n",
            "Accuracy Supervised: 100.0\n",
            "Iteration No.: 1000,Discriminator Supervised Loss: 0.008666657,Generator Loss: [5.794283, 0.0],Discriminator Unsuperived Loss:,[0.10782564 0.96875   ]\n",
            "val_loss:,[1.2499554376602173, 0.736299991607666]\n",
            "Accuracy Supervised: 100.0\n",
            "Iteration No.: 1500,Discriminator Supervised Loss: 0.0031505562,Generator Loss: [3.8865418, 0.0],Discriminator Unsuperived Loss:,[0.07238729 0.96875   ]\n",
            "val_loss:,[0.6123553897559643, 0.8393999934196472]\n",
            "Accuracy Supervised: 100.0\n",
            "Iteration No.: 2000,Discriminator Supervised Loss: 0.0017296828,Generator Loss: [5.250561, 0.0],Discriminator Unsuperived Loss:,[0.06986102 0.96875   ]\n",
            "val_loss:,[0.5717652545452118, 0.8310999870300293]\n",
            "Accuracy Supervised: 100.0\n",
            "Iteration No.: 2500,Discriminator Supervised Loss: 0.004824932,Generator Loss: [4.940696, 0.0],Discriminator Unsuperived Loss:,[0.07217942 0.96875   ]\n",
            "val_loss:,[0.43823403242826464, 0.875]\n",
            "Accuracy Supervised: 100.0\n",
            "Iteration No.: 3000,Discriminator Supervised Loss: 0.0016909742,Generator Loss: [4.489632, 0.0],Discriminator Unsuperived Loss:,[0.13572739 0.9375    ]\n",
            "val_loss:,[0.3780076452821493, 0.8920000195503235]\n",
            "Accuracy Supervised: 100.0\n",
            "Iteration No.: 3500,Discriminator Supervised Loss: 0.00016303439,Generator Loss: [6.490337, 0.0],Discriminator Unsuperived Loss:,[0.28948206 0.90625   ]\n",
            "val_loss:,[0.5444176544845104, 0.838699996471405]\n",
            "Accuracy Supervised: 100.0\n",
            "Iteration No.: 4000,Discriminator Supervised Loss: 0.000375812,Generator Loss: [4.222254, 0.0625],Discriminator Unsuperived Loss:,[0.14507772 0.9375    ]\n",
            "val_loss:,[0.32626293078064916, 0.9053999781608582]\n",
            "Accuracy Supervised: 100.0\n",
            "Iteration No.: 4500,Discriminator Supervised Loss: 0.00014600917,Generator Loss: [4.371436, 0.09375],Discriminator Unsuperived Loss:,[0.2193968 0.890625 ]\n",
            "val_loss:,[0.2846596966996789, 0.9168999791145325]\n",
            "Accuracy Supervised: 100.0\n",
            "Iteration No.: 5000,Discriminator Supervised Loss: 0.000109324785,Generator Loss: [4.0322294, 0.09375],Discriminator Unsuperived Loss:,[0.3752102 0.796875 ]\n",
            "val_loss:,[0.41234259657263755, 0.8745999932289124]\n",
            "Accuracy Supervised: 100.0\n",
            "Iteration No.: 5500,Discriminator Supervised Loss: 0.00066423236,Generator Loss: [4.608223, 0.125],Discriminator Unsuperived Loss:,[0.07395282 0.984375  ]\n",
            "val_loss:,[0.3060773726567626, 0.9070000052452087]\n",
            "Accuracy Supervised: 100.0\n",
            "Iteration No.: 6000,Discriminator Supervised Loss: 0.0005882777,Generator Loss: [4.698967, 0.0],Discriminator Unsuperived Loss:,[0.17043665 0.9375    ]\n",
            "val_loss:,[0.2713920473486185, 0.9146000146865845]\n",
            "Accuracy Supervised: 100.0\n"
          ],
          "name": "stdout"
        }
      ]
    },
    {
      "cell_type": "code",
      "metadata": {
        "colab": {
          "base_uri": "https://localhost:8080/"
        },
        "id": "Mtej_4EeM_eZ",
        "outputId": "85f11a13-9711-4d23-8450-2739a42ee63a"
      },
      "source": [
        "_,accuracy = discriminator_supervised.evaluate(x_test,y_test)\n",
        "print(\"Test Accuracy:\",accuracy)"
      ],
      "execution_count": 16,
      "outputs": [
        {
          "output_type": "stream",
          "text": [
            "10000/10000 [==============================] - 1s 69us/step\n",
            "Test Accuracy: 0.9146000146865845\n"
          ],
          "name": "stdout"
        }
      ]
    },
    {
      "cell_type": "code",
      "metadata": {
        "colab": {
          "base_uri": "https://localhost:8080/",
          "height": 248
        },
        "id": "cZO62adtMvC8",
        "outputId": "e1a7d662-96ae-4300-f804-90e51fee3a77"
      },
      "source": [
        "n_rows = 4\n",
        "fig,axs = plt.subplots(n_rows,n_rows,figsize=(4,4),sharex=True,sharey=True)\n",
        "z = np.random.normal(0,1,(n_rows**2,z_dim))\n",
        "#z = z/2 + 0.5\n",
        "gen_imgs = generator.predict(z)\n",
        "gen_imgs = gen_imgs/2 + 0.5\n",
        "count = 0\n",
        "for i in range(n_rows):\n",
        "  for j in range(n_rows):\n",
        "    axs[i,j].imshow(gen_imgs[count,:,:,0],cmap='gray')\n",
        "    count = count + 1\n",
        "    axs[i,j].axis('off')"
      ],
      "execution_count": 17,
      "outputs": [
        {
          "output_type": "display_data",
          "data": {
            "image/png": "[encoded data removed]",
            "text/plain": [
              "<Figure size 288x288 with 16 Axes>"
            ]
          },
          "metadata": {
            "tags": [],
            "needs_background": "light"
          }
        }
      ]
    },
    {
      "cell_type": "markdown",
      "metadata": {
        "id": "0mBvZPCQNFrC"
      },
      "source": [
        "## Compare with Fully Supervised"
      ]
    },
    {
      "cell_type": "code",
      "metadata": {
        "id": "xD4_f4QPNBTQ"
      },
      "source": [
        "mnist_classifier = build_discriminator_supervised(\n",
        "                         build_discriminator(img_shape))     \n",
        "\n",
        "mnist_classifier.compile(loss='sparse_categorical_crossentropy',\n",
        "                         metrics=['accuracy'],\n",
        "                         optimizer=Adam())"
      ],
      "execution_count": 18,
      "outputs": []
    },
    {
      "cell_type": "code",
      "metadata": {
        "colab": {
          "base_uri": "https://localhost:8080/"
        },
        "id": "gyfuFl3-NK0d",
        "outputId": "a6a1a90d-d296-4a80-d8c3-fe848d642edc"
      },
      "source": [
        "x_train,y_train =dataset.batch_labeled(100)\n",
        "mnist_classifier.fit(x=x_train,y=y_train,epochs=100)"
      ],
      "execution_count": 19,
      "outputs": [
        {
          "output_type": "stream",
          "text": [
            "Epoch 1/100\n",
            "100/100 [==============================] - 0s 3ms/step - loss: 2.6234 - accuracy: 0.2100\n",
            "Epoch 2/100\n",
            "100/100 [==============================] - 0s 212us/step - loss: 1.0953 - accuracy: 0.6500\n",
            "Epoch 3/100\n",
            "100/100 [==============================] - 0s 209us/step - loss: 0.5256 - accuracy: 0.8300\n",
            "Epoch 4/100\n",
            "100/100 [==============================] - 0s 193us/step - loss: 0.3672 - accuracy: 0.9300\n",
            "Epoch 5/100\n",
            "100/100 [==============================] - 0s 196us/step - loss: 0.2519 - accuracy: 0.9100\n",
            "Epoch 6/100\n",
            "100/100 [==============================] - 0s 199us/step - loss: 0.1135 - accuracy: 0.9900\n",
            "Epoch 7/100\n",
            "100/100 [==============================] - 0s 192us/step - loss: 0.1034 - accuracy: 0.9900\n",
            "Epoch 8/100\n",
            "100/100 [==============================] - 0s 221us/step - loss: 0.0670 - accuracy: 0.9900\n",
            "Epoch 9/100\n",
            "100/100 [==============================] - 0s 185us/step - loss: 0.0460 - accuracy: 0.9900\n",
            "Epoch 10/100\n",
            "100/100 [==============================] - 0s 227us/step - loss: 0.0284 - accuracy: 1.0000\n",
            "Epoch 11/100\n",
            "100/100 [==============================] - 0s 210us/step - loss: 0.0269 - accuracy: 1.0000\n",
            "Epoch 12/100\n",
            "100/100 [==============================] - 0s 213us/step - loss: 0.0232 - accuracy: 1.0000\n",
            "Epoch 13/100\n",
            "100/100 [==============================] - 0s 215us/step - loss: 0.0165 - accuracy: 1.0000\n",
            "Epoch 14/100\n",
            "100/100 [==============================] - 0s 219us/step - loss: 0.0169 - accuracy: 1.0000\n",
            "Epoch 15/100\n",
            "100/100 [==============================] - 0s 216us/step - loss: 0.0103 - accuracy: 1.0000\n",
            "Epoch 16/100\n",
            "100/100 [==============================] - 0s 216us/step - loss: 0.0085 - accuracy: 1.0000\n",
            "Epoch 17/100\n",
            "100/100 [==============================] - 0s 204us/step - loss: 0.0106 - accuracy: 1.0000\n",
            "Epoch 18/100\n",
            "100/100 [==============================] - 0s 281us/step - loss: 0.0102 - accuracy: 1.0000\n",
            "Epoch 19/100\n",
            "100/100 [==============================] - 0s 251us/step - loss: 0.0051 - accuracy: 1.0000\n",
            "Epoch 20/100\n",
            "100/100 [==============================] - 0s 243us/step - loss: 0.0058 - accuracy: 1.0000\n",
            "Epoch 21/100\n",
            "100/100 [==============================] - 0s 289us/step - loss: 0.0060 - accuracy: 1.0000\n",
            "Epoch 22/100\n",
            "100/100 [==============================] - 0s 237us/step - loss: 0.0132 - accuracy: 1.0000\n",
            "Epoch 23/100\n",
            "100/100 [==============================] - 0s 230us/step - loss: 0.0060 - accuracy: 1.0000\n",
            "Epoch 24/100\n",
            "100/100 [==============================] - 0s 202us/step - loss: 0.0080 - accuracy: 1.0000\n",
            "Epoch 25/100\n",
            "100/100 [==============================] - 0s 240us/step - loss: 0.0034 - accuracy: 1.0000\n",
            "Epoch 26/100\n",
            "100/100 [==============================] - 0s 226us/step - loss: 0.0040 - accuracy: 1.0000\n",
            "Epoch 27/100\n",
            "100/100 [==============================] - 0s 198us/step - loss: 0.0037 - accuracy: 1.0000\n",
            "Epoch 28/100\n",
            "100/100 [==============================] - 0s 187us/step - loss: 0.0028 - accuracy: 1.0000\n",
            "Epoch 29/100\n",
            "100/100 [==============================] - 0s 198us/step - loss: 0.0058 - accuracy: 1.0000\n",
            "Epoch 30/100\n",
            "100/100 [==============================] - 0s 205us/step - loss: 0.0038 - accuracy: 1.0000\n",
            "Epoch 31/100\n",
            "100/100 [==============================] - 0s 219us/step - loss: 0.0033 - accuracy: 1.0000\n",
            "Epoch 32/100\n",
            "100/100 [==============================] - 0s 197us/step - loss: 0.0035 - accuracy: 1.0000\n",
            "Epoch 33/100\n",
            "100/100 [==============================] - 0s 196us/step - loss: 0.0030 - accuracy: 1.0000\n",
            "Epoch 34/100\n",
            "100/100 [==============================] - 0s 232us/step - loss: 0.0030 - accuracy: 1.0000\n",
            "Epoch 35/100\n",
            "100/100 [==============================] - 0s 200us/step - loss: 0.0023 - accuracy: 1.0000\n",
            "Epoch 36/100\n",
            "100/100 [==============================] - 0s 204us/step - loss: 0.0032 - accuracy: 1.0000\n",
            "Epoch 37/100\n",
            "100/100 [==============================] - 0s 192us/step - loss: 0.0017 - accuracy: 1.0000\n",
            "Epoch 38/100\n",
            "100/100 [==============================] - 0s 197us/step - loss: 0.0028 - accuracy: 1.0000\n",
            "Epoch 39/100\n",
            "100/100 [==============================] - 0s 207us/step - loss: 0.0027 - accuracy: 1.0000\n",
            "Epoch 40/100\n",
            "100/100 [==============================] - 0s 200us/step - loss: 0.0029 - accuracy: 1.0000\n",
            "Epoch 41/100\n",
            "100/100 [==============================] - 0s 202us/step - loss: 0.0028 - accuracy: 1.0000\n",
            "Epoch 42/100\n",
            "100/100 [==============================] - 0s 189us/step - loss: 0.0024 - accuracy: 1.0000\n",
            "Epoch 43/100\n",
            "100/100 [==============================] - 0s 198us/step - loss: 0.0024 - accuracy: 1.0000\n",
            "Epoch 44/100\n",
            "100/100 [==============================] - 0s 188us/step - loss: 0.0016 - accuracy: 1.0000\n",
            "Epoch 45/100\n",
            "100/100 [==============================] - 0s 226us/step - loss: 0.0024 - accuracy: 1.0000\n",
            "Epoch 46/100\n",
            "100/100 [==============================] - 0s 226us/step - loss: 0.0016 - accuracy: 1.0000\n",
            "Epoch 47/100\n",
            "100/100 [==============================] - 0s 206us/step - loss: 0.0016 - accuracy: 1.0000\n",
            "Epoch 48/100\n",
            "100/100 [==============================] - 0s 229us/step - loss: 0.0017 - accuracy: 1.0000\n",
            "Epoch 49/100\n",
            "100/100 [==============================] - 0s 241us/step - loss: 0.0016 - accuracy: 1.0000\n",
            "Epoch 50/100\n",
            "100/100 [==============================] - 0s 239us/step - loss: 0.0014 - accuracy: 1.0000\n",
            "Epoch 51/100\n",
            "100/100 [==============================] - 0s 217us/step - loss: 0.0016 - accuracy: 1.0000\n",
            "Epoch 52/100\n",
            "100/100 [==============================] - 0s 216us/step - loss: 0.0020 - accuracy: 1.0000\n",
            "Epoch 53/100\n",
            "100/100 [==============================] - 0s 217us/step - loss: 0.0016 - accuracy: 1.0000\n",
            "Epoch 54/100\n",
            "100/100 [==============================] - 0s 221us/step - loss: 0.0011 - accuracy: 1.0000\n",
            "Epoch 55/100\n",
            "100/100 [==============================] - 0s 203us/step - loss: 0.0011 - accuracy: 1.0000\n",
            "Epoch 56/100\n",
            "100/100 [==============================] - 0s 209us/step - loss: 0.0012 - accuracy: 1.0000\n",
            "Epoch 57/100\n",
            "100/100 [==============================] - 0s 213us/step - loss: 0.0013 - accuracy: 1.0000\n",
            "Epoch 58/100\n",
            "100/100 [==============================] - 0s 222us/step - loss: 0.0013 - accuracy: 1.0000\n",
            "Epoch 59/100\n",
            "100/100 [==============================] - 0s 268us/step - loss: 0.0011 - accuracy: 1.0000\n",
            "Epoch 60/100\n",
            "100/100 [==============================] - 0s 193us/step - loss: 0.0012 - accuracy: 1.0000\n",
            "Epoch 61/100\n",
            "100/100 [==============================] - 0s 200us/step - loss: 0.0015 - accuracy: 1.0000\n",
            "Epoch 62/100\n",
            "100/100 [==============================] - 0s 231us/step - loss: 0.0020 - accuracy: 1.0000\n",
            "Epoch 63/100\n",
            "100/100 [==============================] - 0s 204us/step - loss: 7.1811e-04 - accuracy: 1.0000\n",
            "Epoch 64/100\n",
            "100/100 [==============================] - 0s 212us/step - loss: 0.0014 - accuracy: 1.0000\n",
            "Epoch 65/100\n",
            "100/100 [==============================] - 0s 209us/step - loss: 0.0014 - accuracy: 1.0000\n",
            "Epoch 66/100\n",
            "100/100 [==============================] - 0s 226us/step - loss: 0.0013 - accuracy: 1.0000\n",
            "Epoch 67/100\n",
            "100/100 [==============================] - 0s 214us/step - loss: 0.0012 - accuracy: 1.0000\n",
            "Epoch 68/100\n",
            "100/100 [==============================] - 0s 248us/step - loss: 0.0012 - accuracy: 1.0000\n",
            "Epoch 69/100\n",
            "100/100 [==============================] - 0s 196us/step - loss: 0.0016 - accuracy: 1.0000\n",
            "Epoch 70/100\n",
            "100/100 [==============================] - 0s 208us/step - loss: 0.0010 - accuracy: 1.0000\n",
            "Epoch 71/100\n",
            "100/100 [==============================] - 0s 192us/step - loss: 9.9483e-04 - accuracy: 1.0000\n",
            "Epoch 72/100\n",
            "100/100 [==============================] - 0s 200us/step - loss: 6.1235e-04 - accuracy: 1.0000\n",
            "Epoch 73/100\n",
            "100/100 [==============================] - 0s 198us/step - loss: 0.0012 - accuracy: 1.0000\n",
            "Epoch 74/100\n",
            "100/100 [==============================] - 0s 197us/step - loss: 0.0011 - accuracy: 1.0000\n",
            "Epoch 75/100\n",
            "100/100 [==============================] - 0s 217us/step - loss: 9.8343e-04 - accuracy: 1.0000\n",
            "Epoch 76/100\n",
            "100/100 [==============================] - 0s 254us/step - loss: 8.5250e-04 - accuracy: 1.0000\n",
            "Epoch 77/100\n",
            "100/100 [==============================] - 0s 235us/step - loss: 0.0010 - accuracy: 1.0000\n",
            "Epoch 78/100\n",
            "100/100 [==============================] - 0s 278us/step - loss: 0.0010 - accuracy: 1.0000\n",
            "Epoch 79/100\n",
            "100/100 [==============================] - 0s 233us/step - loss: 8.2588e-04 - accuracy: 1.0000\n",
            "Epoch 80/100\n",
            "100/100 [==============================] - 0s 210us/step - loss: 7.6447e-04 - accuracy: 1.0000\n",
            "Epoch 81/100\n",
            "100/100 [==============================] - 0s 211us/step - loss: 9.1012e-04 - accuracy: 1.0000\n",
            "Epoch 82/100\n",
            "100/100 [==============================] - 0s 246us/step - loss: 0.0010 - accuracy: 1.0000\n",
            "Epoch 83/100\n",
            "100/100 [==============================] - 0s 211us/step - loss: 8.1061e-04 - accuracy: 1.0000\n",
            "Epoch 84/100\n",
            "100/100 [==============================] - 0s 204us/step - loss: 7.8680e-04 - accuracy: 1.0000\n",
            "Epoch 85/100\n",
            "100/100 [==============================] - 0s 226us/step - loss: 8.9081e-04 - accuracy: 1.0000\n",
            "Epoch 86/100\n",
            "100/100 [==============================] - 0s 223us/step - loss: 6.9159e-04 - accuracy: 1.0000\n",
            "Epoch 87/100\n",
            "100/100 [==============================] - 0s 222us/step - loss: 5.1659e-04 - accuracy: 1.0000\n",
            "Epoch 88/100\n",
            "100/100 [==============================] - 0s 255us/step - loss: 7.4199e-04 - accuracy: 1.0000\n",
            "Epoch 89/100\n",
            "100/100 [==============================] - 0s 240us/step - loss: 7.0759e-04 - accuracy: 1.0000\n",
            "Epoch 90/100\n",
            "100/100 [==============================] - 0s 225us/step - loss: 8.1057e-04 - accuracy: 1.0000\n",
            "Epoch 91/100\n",
            "100/100 [==============================] - 0s 203us/step - loss: 8.6502e-04 - accuracy: 1.0000\n",
            "Epoch 92/100\n",
            "100/100 [==============================] - 0s 225us/step - loss: 6.2319e-04 - accuracy: 1.0000\n",
            "Epoch 93/100\n",
            "100/100 [==============================] - 0s 200us/step - loss: 7.9450e-04 - accuracy: 1.0000\n",
            "Epoch 94/100\n",
            "100/100 [==============================] - 0s 235us/step - loss: 7.9188e-04 - accuracy: 1.0000\n",
            "Epoch 95/100\n",
            "100/100 [==============================] - 0s 208us/step - loss: 6.0871e-04 - accuracy: 1.0000\n",
            "Epoch 96/100\n",
            "100/100 [==============================] - 0s 207us/step - loss: 0.0011 - accuracy: 1.0000\n",
            "Epoch 97/100\n",
            "100/100 [==============================] - 0s 238us/step - loss: 5.3907e-04 - accuracy: 1.0000\n",
            "Epoch 98/100\n",
            "100/100 [==============================] - 0s 277us/step - loss: 8.3050e-04 - accuracy: 1.0000\n",
            "Epoch 99/100\n",
            "100/100 [==============================] - 0s 245us/step - loss: 4.8060e-04 - accuracy: 1.0000\n",
            "Epoch 100/100\n",
            "100/100 [==============================] - 0s 207us/step - loss: 4.2555e-04 - accuracy: 1.0000\n"
          ],
          "name": "stdout"
        },
        {
          "output_type": "execute_result",
          "data": {
            "text/plain": [
              "<keras.callbacks.callbacks.History at 0x7fdb872d25d0>"
            ]
          },
          "metadata": {
            "tags": []
          },
          "execution_count": 19
        }
      ]
    },
    {
      "cell_type": "code",
      "metadata": {
        "colab": {
          "base_uri": "https://localhost:8080/"
        },
        "id": "CRXRAfbMNMUl",
        "outputId": "0215961e-148c-4899-f32f-ef7d4dd21419"
      },
      "source": [
        "\n",
        "x,y = dataset.testing_set()\n",
        "_,accuracy = mnist_classifier.evaluate(x,y)\n",
        "print(\"Test Accuracy for fully supervised classifier:\",accuracy*100)"
      ],
      "execution_count": 20,
      "outputs": [
        {
          "output_type": "stream",
          "text": [
            "10000/10000 [==============================] - 1s 80us/step\n",
            "Test Accuracy for fully supervised classifier: 64.92999792098999\n"
          ],
          "name": "stdout"
        }
      ]
    }
  ]
}