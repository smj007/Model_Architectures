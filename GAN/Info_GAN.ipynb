{
  "nbformat": 4,
  "nbformat_minor": 0,
  "metadata": {
    "colab": {
      "name": "Info-GAN",
      "provenance": [],
      "collapsed_sections": []
    },
    "kernelspec": {
      "name": "python3",
      "display_name": "Python 3"
    }
  },
  "cells": [
    {
      "cell_type": "code",
      "metadata": {
        "id": "XPSYqyHsUbY2",
        "colab_type": "code",
        "colab": {}
      },
      "source": [
        "import tensorflow as tf\n",
        "from tensorflow.examples.tutorials.mnist import input_data\n",
        "import matplotlib.pyplot as plt\n",
        "import numpy as np"
      ],
      "execution_count": null,
      "outputs": []
    },
    {
      "cell_type": "code",
      "metadata": {
        "id": "Xn-GccLFVBR1",
        "colab_type": "code",
        "colab": {}
      },
      "source": [
        "def xavier_init(in_shape):\n",
        "  val = tf.random_normal(shape = in_shape, stddev = 1./tf.sqrt(in_shape[0]/2.))\n",
        "  return val"
      ],
      "execution_count": null,
      "outputs": []
    },
    {
      "cell_type": "code",
      "metadata": {
        "id": "dWoongSbVBOn",
        "colab_type": "code",
        "colab": {}
      },
      "source": [
        "Disc_W = {\"disc_H\" : tf.Variable(xavier_init([image_dimension, D_H1])),\n",
        "          \"disc_final\" : tf.Variable(xavier_init([D_H1, 1]))\n",
        "          }\n",
        "\n",
        "Disc_Bias = {\"disc_H\" : tf.Variable(xavier_init([image_dimension])),\n",
        "          \"disc_final\" : tf.Variable(xavier_init([1]))\n",
        "          }\n",
        "         "
      ],
      "execution_count": null,
      "outputs": []
    },
    {
      "cell_type": "code",
      "metadata": {
        "id": "Wg7_AQH_VBLN",
        "colab_type": "code",
        "colab": {}
      },
      "source": [
        "Gen_W = {\"Gen_H\" : tf.Variable(xavier_init([Z_dim + C_dim, G_H1])),\n",
        "          \"Gen_final\" : tf.Variable(xavier_init([G_H1, image_dimension]))\n",
        "          }\n",
        "\n",
        "Gen_Bias = {\"Gen_H\" : tf.Variable(xavier_init([G_H1])),\n",
        "          \"Gen_final\" : tf.Variable(xavier_init([image_dimension]))\n",
        "          }\n",
        "         "
      ],
      "execution_count": null,
      "outputs": []
    },
    {
      "cell_type": "code",
      "metadata": {
        "id": "Jn9uVKoNVBIR",
        "colab_type": "code",
        "colab": {}
      },
      "source": [
        "Q_W = {\"Q_H\" : tf.Variable(xavier_init([image_dimension, Q_H1])),\n",
        "          \"Q_final\" : tf.Variable(xavier_init([Q_H1, C_dim]))\n",
        "          }\n",
        "\n",
        "Q_Bias = {\"Q_H\" : tf.Variable(xavier_init([Q_H1])),\n",
        "          \"Q_final\" : tf.Variable(xavier_init([C_dim]))\n",
        "          }\n",
        "         "
      ],
      "execution_count": null,
      "outputs": []
    },
    {
      "cell_type": "code",
      "metadata": {
        "id": "exY4f-IKVBFf",
        "colab_type": "code",
        "colab": {}
      },
      "source": [
        "X = tf.placeholder(tf.float32, shape = [None, image_dimension])\n",
        "Z = tf.placeholder(tf.float32, shape = [None, Z_dim])\n",
        "C = tf.placeholder(tf.float32, shape = [None, C_dim])"
      ],
      "execution_count": null,
      "outputs": []
    },
    {
      "cell_type": "code",
      "metadata": {
        "id": "kCou2o6_VBED",
        "colab_type": "code",
        "colab": {}
      },
      "source": [
        "def Z_distribution(m, n):\n",
        "  return np.random.uniform(-1., 1., size = [m, n])"
      ],
      "execution_count": null,
      "outputs": []
    },
    {
      "cell_type": "code",
      "metadata": {
        "id": "wqYqtFBmVA_w",
        "colab_type": "code",
        "colab": {}
      },
      "source": [
        "def C_distribution(m, C_dim):\n",
        "  return np.random.multinomial(1, C_dim * [1/C_dim], size = m) #10 * [1/10] - 10 values of prob 0.1 each"
      ],
      "execution_count": null,
      "outputs": []
    },
    {
      "cell_type": "code",
      "metadata": {
        "id": "O1u8zjpNVA7Z",
        "colab_type": "code",
        "colab": {}
      },
      "source": [
        "def Generator(z, c):\n",
        "  input = tf.concat(axis = 1, values = [z, c])\n",
        "  G_hidden_layer = tf.nn.relu(tf.add(tf.matmul(x, Gen_W['Gen_H']), Gen_Bias['Gen_H']))\n",
        "  gen_output = tf.add(tf.matmul(G_hidden_layer, Gen_W['Gen_final']), Gen_Bias['Gen_final'])\n",
        "  gen_prob_output = tf.nn.sigmoid(gen_output)\n",
        "  return gen_prob_output"
      ],
      "execution_count": null,
      "outputs": []
    },
    {
      "cell_type": "code",
      "metadata": {
        "id": "Qqm3Aw9IVA4C",
        "colab_type": "code",
        "colab": {}
      },
      "source": [
        "def Discriminator(x):\n",
        "  D_hidden_layer = tf.nn.relu(tf.add(tf.matmul(x, Disc_W['disc_H']), Disc_Bias['disc_H']))\n",
        "  disc_output = tf.add(tf.matmul(D_hidden_layer, Disc_W['disc_final']), Disc_Bias['disc_final'])\n",
        "  disc_prob_output = tf.nn.sigmoid(disc_output)\n",
        "  return disc_prob_output  "
      ],
      "execution_count": null,
      "outputs": []
    },
    {
      "cell_type": "code",
      "metadata": {
        "id": "C2PVv4y-a7XH",
        "colab_type": "code",
        "colab": {}
      },
      "source": [
        "def Auxiliary_NN(x):\n",
        "  Q_hidden_layer = tf.nn.relu(tf.add(tf.matmul(x, Q_W['Q_H']), Q_Bias['Q_H']))\n",
        "  Q_output = tf.add(tf.matmul(Q_hidden_layer, Q_W['Q_final']), Q_Bias['Q_final'])\n",
        "  Q_prob_output = tf.nn.softmax(Q_output)\n",
        "  return Q_prob_output  "
      ],
      "execution_count": null,
      "outputs": []
    },
    {
      "cell_type": "code",
      "metadata": {
        "id": "Qm15gvNgdf2a",
        "colab_type": "code",
        "colab": {}
      },
      "source": [
        "#Building the network\n",
        "\n",
        "samples_generated = Generator(Z, C)\n",
        "real_output_disc = Discriminator(X)\n",
        "fake_output_disc = Discriminator(samples_generated)\n",
        "estimated_c = Auxiliary_NN(samples_generated)"
      ],
      "execution_count": null,
      "outputs": []
    },
    {
      "cell_type": "code",
      "metadata": {
        "id": "RclIFdG_dfz5",
        "colab_type": "code",
        "colab": {}
      },
      "source": [
        "Disc_Loss = -tf.reduce_mean(tf.log(real_output_disc + 1e-7) + tf.log(1.0 - fake_output_disc + 1e-7))\n",
        "Gen_Loss = -tf.reduce_mean(tf.log(fake_output_disc + 1e-7))\n",
        "Q_Loss = -tf.reduce_mean(tf.reduce_sum(tf.log(estimated_c + 1e-7)*C, 1)) "
      ],
      "execution_count": null,
      "outputs": []
    },
    {
      "cell_type": "code",
      "metadata": {
        "id": "VwTKNswDdfw_",
        "colab_type": "code",
        "colab": {}
      },
      "source": [
        "Disc_params = [Disc_W['disc_H'], Disc_W['disc_final'], Disc_Bias['disc_H'], Disc_Bias['disc_final']]\n",
        "Gen_params = [Gen_W['Gen_H'], Gen_W['Gen_final'], Gen_Bias['Gen_H'], Gen_Bias['Gen_final']]\n",
        "Q_params = [Q_W['Q_H'], Q_W['Q_final'], Q_Bias['Q_H'], Q_Bias['Q_final']]"
      ],
      "execution_count": null,
      "outputs": []
    },
    {
      "cell_type": "code",
      "metadata": {
        "id": "AriujNjjdfvC",
        "colab_type": "code",
        "colab": {}
      },
      "source": [
        "gen_optimize = tf.train.AdamOptimizer(learning_rate = learning_rate).minimize(Gen_Loss, var_list = Gen_params)\n",
        "Disc_optimize = tf.train.AdamOptimizer(learning_rate = learning_rate).minimize(Disc_Loss, var_list = Disc_params)\n",
        "Aux_optimize = tf.train.AdamOptimizer(learning_rate = learning_rate).minimize(Q_Loss, var_list = Gen_params + Q_params)"
      ],
      "execution_count": null,
      "outputs": []
    },
    {
      "cell_type": "code",
      "metadata": {
        "id": "TUfUbtlgdfpj",
        "colab_type": "code",
        "colab": {}
      },
      "source": [
        "init = tf.global_variables_initializer()\n",
        "sess = tf.Session()\n",
        "sess.run(init)\n",
        "\n",
        "for epoch in range(epochs):\n",
        "  X_batch, _ = mnist.train.next_batch(batch_size)\n",
        "  z_noise = Z_distribution(batch_size, Z_dim)\n",
        "  c_noise = C_distribution(batch_size, C_dim)\n",
        "\n",
        "  _, Disc_loss_epoch = sess.run([Disc_optimize, Disc_Loss], feed_dict = {X:X_batch, C:c_noise})\n",
        "  _, Gen_loss_epoch = sess.run([gen_optimize, Gen_Loss], feed_dict = {Z:z_noise, C:c_noise})\n",
        "  _, Aux_loss_epoch = sess.run([Aux_optimize, Q_Loss], feed_dict = {Z:z_noise, C:c_noise})\n",
        "\n",
        "  if epoch%2000 == 0:\n",
        "    print('Steps: {0}, Disc Loss: {1}, Generator Loss: {2}, Aux Loss: {3}'.format(epoch, Disc_loss_epoch, Gen_loss_epoch, Aux_loss_epoch))"
      ],
      "execution_count": null,
      "outputs": []
    },
    {
      "cell_type": "code",
      "metadata": {
        "id": "KwwfePpedfkz",
        "colab_type": "code",
        "colab": {}
      },
      "source": [
        "test_output , _ = Generator(Z, C)\n",
        "n = 6\n",
        "canvas = np.empty((28*n, 28*n))\n",
        "\n",
        "for i in range(n):\n",
        "  Z_noise = Z_distribution(batch_size, Z_dim)\n",
        "  C_noise = C_distribution(batch_size, C_dim)\n",
        "\n",
        "\n",
        "  #Another way to pass the value  of C_noise\n",
        "  id = 5\n",
        "  C_noise = np.zeros((batch_size, C_dim))\n",
        "  C_noise[range(batch_size), id] = 1  #encode the vector such that along the id index for all samples the val is 1\n",
        "  #when this is done acc to each id there is a particular style feature coded into \"c\" and that style is the conditioning for the vals generated\n",
        "\n",
        "\n",
        "  generated_image  = sess.run(test_output, feed_dict = {Z:Z_noise, C:C_noise})\n",
        "  for j in range(n):\n",
        "    canvas[i * 28: (i+1) * 28, j * 28: (j+1) * 28] = generated_image[j].reshape([28, 28])\n",
        "\n",
        "\n",
        "plt.figure(figsize = (n, n))\n",
        "plt.imshow(canvas, origin = \"upper\", cmap = 'gray')\n",
        "plt.show()"
      ],
      "execution_count": null,
      "outputs": []
    }
  ]
}