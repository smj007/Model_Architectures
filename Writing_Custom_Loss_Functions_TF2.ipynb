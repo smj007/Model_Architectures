{
  "nbformat": 4,
  "nbformat_minor": 0,
  "metadata": {
    "colab": {
      "name": "Writing Custom Loss Functions - TF2",
      "provenance": []
    },
    "kernelspec": {
      "name": "python3",
      "display_name": "Python 3"
    }
  },
  "cells": [
    {
      "cell_type": "code",
      "metadata": {
        "id": "Ho5VpsCvDR-W"
      },
      "source": [
        "#RMSE\n",
        "\n",
        "import tensorflow as tf\n",
        "import numpy as np\n",
        "from tensorflow import keras\n",
        "from tensorflow.keras import backend as K\n",
        "#defining the loss function\n",
        "def my_rmse(y_true, y_pred):\n",
        "    #difference between true label and predicted label\n",
        "    error = y_true-y_pred    \n",
        "    #square of the error\n",
        "    sqr_error = K.square(error)\n",
        "    #mean of the square of the error\n",
        "    mean_sqr_error = K.mean(sqr_error)\n",
        "    #square root of the mean of the square of the error\n",
        "    sqrt_mean_sqr_error = K.sqrt(mean_sqr_error)\n",
        "    #return the error\n",
        "    return sqrt_mean_sqr_error\n",
        "#applying the loss function\n",
        "model.compile(optimizer = 'sgd', loss = my_rmse)"
      ],
      "execution_count": null,
      "outputs": []
    },
    {
      "cell_type": "code",
      "metadata": {
        "id": "IiqMZ2_eNBSK"
      },
      "source": [
        "#Huber Loss - no param (thres)\n",
        "import tensorflow as tf\n",
        "def my_huber_loss(y_true, y_pred):   \n",
        "  \n",
        "    threshold = 1     \n",
        "    error = y_true - y_pred     \n",
        "    is_small_error = tf.abs(error) <= threshold     \n",
        "    small_error_loss = tf.square(error) / 2     \n",
        "    big_error_loss = threshold * (tf.abs(error) - (0.5 * threshold))\n",
        "return tf.where(is_small_error, small_error_loss, big_error_loss)\n",
        "\n",
        "model.compile(optimizer='sgd', loss=my_huber_loss)"
      ],
      "execution_count": null,
      "outputs": []
    },
    {
      "cell_type": "code",
      "metadata": {
        "id": "34PyeW6MNBPl"
      },
      "source": [
        "#Huber Loss - param (thres) - Using Wrapper Functions\n",
        "import tensorflow as tf\n",
        "#wrapper function which accepts the threshold parameter\n",
        "def my_huber_loss_with_threshold(threshold):\n",
        "   def my_huber_loss(y_true, y_pred):   \n",
        "  \n",
        "       error = y_true - y_pred     \n",
        "       is_small_error = tf.abs(error) <= threshold     \n",
        "       small_error_loss = tf.square(error) / 2     \n",
        "       big_error_loss = threshold * (tf.abs(error) - (0.5 * threshold))\n",
        "       return tf.where(is_small_error, small_error_loss, big_error_loss)\n",
        "    return my_huber_loss\n",
        "\n",
        "model.compile(optimizer='sgd', loss=my_huber_loss_with_threshold(threshold=1.5))   "
      ],
      "execution_count": null,
      "outputs": []
    },
    {
      "cell_type": "code",
      "metadata": {
        "id": "vRQBPgkdNBMb"
      },
      "source": [
        "#Huber Loss - param (thres) - Using Class and Object\n",
        "\n",
        "import tensorflow as tf\n",
        "from tensorflow.keras.losses import Loss\n",
        "\n",
        "class MyHuberLoss(Loss): #inherit parent class\n",
        "  \n",
        "    #class attribute\n",
        "    threshold = 1\n",
        "  \n",
        "    #initialize instance attributes\n",
        "    def __init__(self, threshold):\n",
        "        super().__init__()\n",
        "        self.threshold = threshold\n",
        "\n",
        "    #compute loss\n",
        "    def call(self, y_true, y_pred):\n",
        "        error = y_true - y_pred\n",
        "        is_small_error = tf.abs(error) <= self.threshold\n",
        "        small_error_loss = tf.square(error) / 2\n",
        "        big_error_loss = self.threshold * (tf.abs(error) - (0.5 * self.threshold))\n",
        "        return tf.where(is_small_error, small_error_loss, big_error_loss)\n",
        "\n",
        "model.compile(optimizer='sgd', loss=MyHuberLoss(threshold=1.9))        "
      ],
      "execution_count": null,
      "outputs": []
    },
    {
      "cell_type": "code",
      "metadata": {
        "id": "Z30mc6raNBJm"
      },
      "source": [
        "#Contrastive Loss -- Using a wrapper function to pass in the margin as a parameter\n",
        "\n",
        "def contrastive_loss_with_margin(margin):\n",
        "    def contrastive_loss(y_true, y_pred):\n",
        "        \n",
        "        square_pred = K.square(y_pred)\n",
        "        margin_square = K.square(K.maximum(margin - y_pred, 0))\n",
        "        return K.mean(y_true * square_pred + (1 - y_true) * margin_square)\n",
        "    return contrastive_loss"
      ],
      "execution_count": null,
      "outputs": []
    },
    {
      "cell_type": "code",
      "metadata": {
        "id": "KhO2c7OlNBG1"
      },
      "source": [
        ""
      ],
      "execution_count": null,
      "outputs": []
    },
    {
      "cell_type": "code",
      "metadata": {
        "id": "4l5tWbW6NBDr"
      },
      "source": [
        ""
      ],
      "execution_count": null,
      "outputs": []
    },
    {
      "cell_type": "code",
      "metadata": {
        "id": "qDFs1FJvNBAa"
      },
      "source": [
        ""
      ],
      "execution_count": null,
      "outputs": []
    }
  ]
}